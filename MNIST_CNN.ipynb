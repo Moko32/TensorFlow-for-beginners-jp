{
 "cells": [
  {
   "cell_type": "markdown",
   "metadata": {},
   "source": [
    "# TensorFlowチュートリアル(CNNでMNISTのデータを分類する)\n",
    "## 1. パッケージのインポート\n",
    "まずは，種々のパッケージのインポートを行う (\\_\\_future\\_\\_はpython2でpython3の記法をするためのもの)"
   ]
  },
  {
   "cell_type": "code",
   "execution_count": 33,
   "metadata": {
    "collapsed": true
   },
   "outputs": [],
   "source": [
    "########パッケージのインポート#########\n",
    "from __future__ import absolute_import, unicode_literals\n",
    "import tensorflow as tf\n",
    "from tensorflow.examples.tutorials.mnist import input_data\n",
    "import numpy as np\n",
    "import matplotlib.pyplot as plt\n",
    "import tfgraphviz as tfg"
   ]
  },
  {
   "cell_type": "markdown",
   "metadata": {},
   "source": [
    "## 2. メソッドの定義\n",
    "メソッドの定義を行う\n",
    "\n",
    "---\n",
    "\n",
    "### def conv2d(x, W)\n",
    "CNNにおける畳込み層の計算を定義している．\n",
    "\n",
    "#### 入力\n",
    "- x : 入力ベクトル\n",
    "- W : 畳み込みにおける重み\n",
    "\n",
    "#### 出力\n",
    "- 畳み込みの計算結果\n",
    "\n",
    "---"
   ]
  },
  {
   "cell_type": "code",
   "execution_count": 34,
   "metadata": {
    "collapsed": true
   },
   "outputs": [],
   "source": [
    "#畳み込み層の定義\n",
    "def conv2d(x, W):\n",
    "    return tf.nn.conv2d(x, W, strides=[1, 1, 1, 1], padding='SAME')"
   ]
  },
  {
   "cell_type": "markdown",
   "metadata": {},
   "source": [
    "---\n",
    "\n",
    "### def max_pool2x2(x)\n",
    "CNNにおけるプーリング層の計算を定義している．\n",
    "\n",
    "#### 入力\n",
    "- x : 入力ベクトル\n",
    "\n",
    "#### 出力\n",
    "- プーリングの計算結果\n",
    "\n",
    "---"
   ]
  },
  {
   "cell_type": "code",
   "execution_count": 35,
   "metadata": {
    "collapsed": true
   },
   "outputs": [],
   "source": [
    "#プーリング層の定義\n",
    "def max_pool_2x2(x):\n",
    "    return tf.nn.max_pool(x, ksize=[1, 2, 2, 1],\n",
    "                          strides=[1, 2, 2, 1], padding='SAME')"
   ]
  },
  {
   "cell_type": "markdown",
   "metadata": {},
   "source": [
    "---\n",
    "\n",
    "### def weight_variable(x)\n",
    "ニューラルネットワークにおける重みの計算を行う\n",
    "\n",
    "#### 入力\n",
    "- shape: 入力ベクトルのshape\n",
    "(shape...TensorFlowにおけるベクトルの形を示すデータ)\n",
    "\n",
    "#### 出力\n",
    "- 重みの算出結果\n",
    "\n",
    "---"
   ]
  },
  {
   "cell_type": "code",
   "execution_count": 36,
   "metadata": {
    "collapsed": true
   },
   "outputs": [],
   "source": [
    "#重み\n",
    "def weight_variable(shape):\n",
    "    initial = tf.truncated_normal(shape, stddev=0.1)\n",
    "    return tf.Variable(initial)"
   ]
  },
  {
   "cell_type": "markdown",
   "metadata": {},
   "source": [
    "---\n",
    "\n",
    "### def bias_variable(x)\n",
    "ニューラルネットワークにおけるバイアスの定義を行う\n",
    "\n",
    "#### 入力\n",
    "- x : 入力ベクトルのshape\n",
    "(shape...TensorFlowにおけるベクトルの形を示すデータ)\n",
    "\n",
    "#### 出力\n",
    "- バイアスの算出結果\n",
    "\n",
    "---"
   ]
  },
  {
   "cell_type": "code",
   "execution_count": 37,
   "metadata": {
    "collapsed": true
   },
   "outputs": [],
   "source": [
    "#バイアス\n",
    "def bias_variable(shape):\n",
    "    initial = tf.constant(0.1, shape=shape)\n",
    "    return tf.Variable(initial)"
   ]
  },
  {
   "cell_type": "markdown",
   "metadata": {},
   "source": [
    "---\n",
    "\n",
    "### def loss(t, f)\n",
    "損失関数の定義を行う\n",
    "\n",
    "#### 入力\n",
    "- t : ラベル\n",
    "- f : 写像\n",
    "\n",
    "#### 出力\n",
    "- 損失値の算出結果\n",
    "\n",
    "---"
   ]
  },
  {
   "cell_type": "code",
   "execution_count": 38,
   "metadata": {
    "collapsed": true
   },
   "outputs": [],
   "source": [
    "#損失関数のメソッド\n",
    "def loss(t, f):\n",
    "    cross_entropy = tf.reduce_mean(-tf.reduce_sum(t * tf.log(f)))\n",
    "    return cross_entropy"
   ]
  },
  {
   "cell_type": "markdown",
   "metadata": {},
   "source": [
    "---\n",
    "\n",
    "### def accuraacy(t, f)\n",
    "精度の定義を行う\n",
    "\n",
    "#### 入力\n",
    "- t : ラベル\n",
    "- f : 写像\n",
    "\n",
    "#### 出力\n",
    "- 精度の算出結果\n",
    "\n",
    "---"
   ]
  },
  {
   "cell_type": "code",
   "execution_count": 39,
   "metadata": {
    "collapsed": true
   },
   "outputs": [],
   "source": [
    "#精度を算出するメソッド\n",
    "def accuracy(t, f):\n",
    "    correct_prediction = tf.equal(tf.argmax(t, 1), tf.argmax(f, 1))\n",
    "    accuracy = tf.reduce_mean(tf.cast(correct_prediction, tf.float32))\n",
    "    return accuracy"
   ]
  },
  {
   "cell_type": "markdown",
   "metadata": {},
   "source": [
    "## 3. ニューラルネットワークの構造を定義する\n",
    "今回扱うディープラーニングのアルゴリズムは，CNN(Convolutional Neural Network)である．\n",
    "CNNは主に画像処理に使用されるアルゴリズムである．\n",
    "これは人間が画像を見る時にピクセルごとに見るのではなく，一定のまとまった範囲を見ていることをヒントに作成されたアルゴリズムである．\n",
    "このCNNでは，そのような一定の範囲のまとまったピクセル群を1つのデータに**畳み込む**作業をしている．\n",
    "\n",
    "---\n",
    "### 変数の宣言\n",
    "まずは，入力の次元数等を変数で宣言する"
   ]
  },
  {
   "cell_type": "code",
   "execution_count": 40,
   "metadata": {
    "collapsed": true
   },
   "outputs": [],
   "source": [
    "#次元数を定義する\n",
    "Q = 784 #入力ベクトルの次元数(28x28の画像を扱うので784となる)\n",
    "P = 784\n",
    "R = 10 #出力の次元数 (10種類の数字に分類するので10となる)"
   ]
  },
  {
   "cell_type": "markdown",
   "metadata": {},
   "source": [
    "### (層1，層？) 入力層と出力層の定義\n",
    "入力はXという変数で定義している．入力の型は\"dtype\"で定義され，ベクトルの形は\"shape\"で定義される．\n",
    "shapeは現状でまだ分からない数(ここでは入力ベクトルの数)は\"None\"で定義している．\n",
    "この箇所はプレースホルダといい，学習を実行する際に変数として代入することができる．"
   ]
  },
  {
   "cell_type": "code",
   "execution_count": 42,
   "metadata": {
    "collapsed": true
   },
   "outputs": [],
   "source": [
    "#アフィン層を作る(f = Wx + b)\n",
    "##Q次元のベクトルをいくつか並べた行列Xを定義（\"いくつか\"という部分はプレースホルダとしてあとで設定する）\n",
    "X = tf.placeholder(dtype = tf.float32, shape = [None, Q])\n",
    "t = tf.placeholder(dtype = tf.float32, shape = [None, R])"
   ]
  },
  {
   "cell_type": "markdown",
   "metadata": {},
   "source": [
    "### (層2,層3) 第一の畳み込み層とプーリング層の定義\n",
    "- 畳み込み層とは...\n",
    "- プーリング層とは...\n"
   ]
  },
  {
   "cell_type": "code",
   "execution_count": 43,
   "metadata": {
    "collapsed": true
   },
   "outputs": [],
   "source": [
    "#第一の畳込みとプーリングの計算\n",
    "W_conv1 = weight_variable([5, 5, 1, 32])\n",
    "b_conv1 = bias_variable([32])\n",
    "x_image = tf.reshape(X, [-1, 28, 28, 1])\n",
    "h_conv1 = tf.nn.relu(tf.nn.conv2d(x_image, W_conv1,strides=[1,1,1,1], padding='SAME') + b_conv1)\n",
    "h_pool1 = max_pool_2x2(h_conv1)"
   ]
  },
  {
   "cell_type": "markdown",
   "metadata": {},
   "source": [
    "### (層4,層5) 第二の畳み込み層とプーリング層の定義\n",
    "ほとんど前セルと同一であるが，畳み込みのパラメータが異なっている"
   ]
  },
  {
   "cell_type": "code",
   "execution_count": 44,
   "metadata": {
    "collapsed": true
   },
   "outputs": [],
   "source": [
    "#第二の畳込みとプーリングの計算\n",
    "W_conv2 = weight_variable([5, 5, 32, 64])\n",
    "b_conv2 = bias_variable([64])\n",
    "h_conv2 = tf.nn.relu(tf.nn.conv2d(h_pool1, W_conv2,strides=[1,1,1,1], padding='SAME') + b_conv2)\n",
    "h_pool2 = max_pool_2x2(h_conv2)"
   ]
  },
  {
   "cell_type": "markdown",
   "metadata": {},
   "source": [
    "### (層6) 全結合層の定義"
   ]
  },
  {
   "cell_type": "code",
   "execution_count": 45,
   "metadata": {
    "collapsed": true
   },
   "outputs": [],
   "source": [
    "#全結合層の計算\n",
    "W_fc1 = weight_variable([7 * 7 * 64, 1024])\n",
    "b_fc1 = bias_variable([1024])\n",
    "h_pool2_flat = tf.reshape(h_pool2, [-1, 7 * 7 * 64])\n",
    "h_fc1 = tf.nn.relu(tf.matmul(h_pool2_flat, W_fc1) + b_fc1)"
   ]
  },
  {
   "cell_type": "markdown",
   "metadata": {},
   "source": [
    "### DropOutの定義"
   ]
  },
  {
   "cell_type": "code",
   "execution_count": 46,
   "metadata": {
    "collapsed": true
   },
   "outputs": [],
   "source": [
    "#DropOutの計算\n",
    "keep_prob = tf.placeholder('float')\n",
    "h_fc1_drop = tf.nn.dropout(h_fc1, keep_prob)"
   ]
  },
  {
   "cell_type": "markdown",
   "metadata": {},
   "source": [
    "### (層7) 読み出し層の定義"
   ]
  },
  {
   "cell_type": "code",
   "execution_count": 47,
   "metadata": {
    "collapsed": true
   },
   "outputs": [],
   "source": [
    "#読み出し層\n",
    "W_fc2 = weight_variable([1024, 10])\n",
    "b_fc2 = bias_variable([10])\n",
    "#ソフトマックス関数を返す\n",
    "y_conv = tf.nn.softmax(tf.matmul(h_fc1_drop, W_fc2) + b_fc2)\n",
    "\n",
    "#損失関数\n",
    "loss = loss(t, y_conv)\n",
    "acc = accuracy(t, y_conv)\n",
    "\n",
    "#最適化アルゴリズムを設定(最急降下法)\n",
    "#opitimizer = tf.train.GradientDescentOptimizer(learning_rate = 0.001)\n",
    "#最適化アルゴリズムを設定(Adam)\n",
    "optimizer = tf.train.AdamOptimizer()\n",
    "train_step = optimizer.minimize(loss)\n",
    "\n",
    "\n",
    "#グラフ描画\n",
    "#tfg.board(tf.get_default_graph())"
   ]
  },
  {
   "cell_type": "markdown",
   "metadata": {},
   "source": [
    "### セッションの生成\n",
    "セッションとは，Tensorflowにおける学習と分類の一連の流れのことである．\n",
    "通常は写像を定義してからセッションを始めるのだが，以下のようにInteractiveSession()という関数を用いることで写像を定義する前にセッションを始めることができる．"
   ]
  },
  {
   "cell_type": "code",
   "execution_count": 48,
   "metadata": {},
   "outputs": [
    {
     "name": "stdout",
     "output_type": "stream",
     "text": [
      "Extracting MNIST_data/train-images-idx3-ubyte.gz\n",
      "Extracting MNIST_data/train-labels-idx1-ubyte.gz\n",
      "Extracting MNIST_data/t10k-images-idx3-ubyte.gz\n",
      "Extracting MNIST_data/t10k-labels-idx1-ubyte.gz\n",
      "step 0, training accuracy 0.1135, loss 673.022\n",
      "step 20, training accuracy 0.613, loss 74.8135\n",
      "step 40, training accuracy 0.8866, loss 23.326\n",
      "step 60, training accuracy 0.9126, loss 22.9965\n",
      "step 80, training accuracy 0.9174, loss 16.2502\n",
      "step 100, training accuracy 0.9388, loss 8.96242\n",
      "step 120, training accuracy 0.9424, loss 9.5075\n",
      "step 140, training accuracy 0.9519, loss 9.6041\n",
      "step 160, training accuracy 0.9536, loss 14.3002\n",
      "step 180, training accuracy 0.9497, loss 3.09404\n"
     ]
    },
    {
     "data": {
      "image/png": "[encoded data removed]",
      "text/plain": [
       "<matplotlib.figure.Figure at 0x10a05ce50>"
      ]
     },
     "metadata": {},
     "output_type": "display_data"
    }
   ],
   "source": [
    "##############学習とテストを行う#################\n",
    "\n",
    "#TensorFlowのAPIを使用してMNISTのデータを取得する\n",
    "mnist = input_data.read_data_sets(\"MNIST_data/\", one_hot=True)\n",
    "\n",
    "#プロットに使用するリストを定義する\n",
    "epoch_list=[]\n",
    "acc_list=[]\n",
    "loss_list=[]\n",
    "\n",
    "\n",
    "#初期化\n",
    "init_op = tf.global_variables_initializer()\n",
    "\n",
    "with tf.Session() as sess:\n",
    "    #初期化の実行\n",
    "    sess.run(init_op)\n",
    "    #学習の実行\n",
    "    #50個のサンプルによるミニバッチ学習\n",
    "    ##200回のエポック数で学習させる\n",
    "    for epoch in range(200):\n",
    "        #バッチ数を50とし，データセットからランダムで取得する\n",
    "        batch = mnist.train.next_batch(50)\n",
    "        #20エポック毎にテストデータでテストさせる\n",
    "        if epoch % 20 == 0:\n",
    "            #精度を算出\n",
    "            test_accuracy = acc.eval(feed_dict={\n",
    "                X: mnist.test.images, t: mnist.test.labels, keep_prob: 1.0})\n",
    "            #損失を算出\n",
    "            test_loss = loss.eval(feed_dict={\n",
    "                X: batch[0], t: batch[1], keep_prob: 1.0})\n",
    "            print 'step %d, training accuracy %g, loss %g' % (epoch, test_accuracy, test_loss)\n",
    "            #後ほどグラフで使用するのでエポック数，精度，損失をリストに格納しておく\n",
    "            epoch_list.append(epoch)\n",
    "            acc_list.append(test_accuracy)\n",
    "            loss_list.append(test_loss)\n",
    "        train_step.run(feed_dict={X: batch[0], t: batch[1], keep_prob: 0.5})\n",
    "\n",
    "\n",
    "# 損失率と精度のプロット\n",
    "fig , ax = plt.subplots()\n",
    "ax2 = ax.twinx()\n",
    "ax.set_ylabel('Loss')\n",
    "ax2.set_ylabel('Accuracy')\n",
    "ax.set_xlabel('Epoch')\n",
    "ax.grid()\n",
    "p1 = ax.plot(epoch_list, loss_list, color='red')\n",
    "p2 = ax2.plot(epoch_list, acc_list,color='blue')\n",
    "ax.legend()\n",
    "ax2.legend()\n",
    "plt.show()\n",
    "\n",
    "sess.close()"
   ]
  },
  {
   "cell_type": "markdown",
   "metadata": {
    "collapsed": true
   },
   "source": [
    "参考: https://qiita.com/To_Murakami/items/35d1b3144a0d017ad0ee"
   ]
  }
 ],
 "metadata": {
  "kernelspec": {
   "display_name": "Python 2",
   "language": "python",
   "name": "python2"
  },
  "language_info": {
   "codemirror_mode": {
    "name": "ipython",
    "version": 2
   },
   "file_extension": ".py",
   "mimetype": "text/x-python",
   "name": "python",
   "nbconvert_exporter": "python",
   "pygments_lexer": "ipython2",
   "version": "2.7.13"
  }
 },
 "nbformat": 4,
 "nbformat_minor": 2
}
